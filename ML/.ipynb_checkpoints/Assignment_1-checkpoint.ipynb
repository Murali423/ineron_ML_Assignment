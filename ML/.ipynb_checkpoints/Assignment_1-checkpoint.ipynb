{
 "cells": [
  {
   "cell_type": "markdown",
   "id": "ff98503f",
   "metadata": {},
   "source": [
    "## Assignment 1"
   ]
  },
  {
   "cell_type": "markdown",
   "id": "7030d9ac",
   "metadata": {},
   "source": [
    "__1. What does one mean by the term 'machine learning'?__"
   ]
  },
  {
   "cell_type": "markdown",
   "id": "d5ad9078",
   "metadata": {},
   "source": [
    "Ans: Instead of engineers “teaching” or programming computers to have what they need \n",
    "to carry out tasks, that perhaps computers could teach themselves – learn something without being \n",
    "explicitly programmed to do so. ML is a form of AI where based on more data, and they can change \n",
    "actions and response, which will make more efficient, adaptable and scalable. e.g., navigation apps and \n",
    "recommendation engines. Classified into:-\n",
    "1. Supervised\n",
    "2. Unsupervised\n",
    "3. Reinforcement learning"
   ]
  },
  {
   "cell_type": "markdown",
   "id": "d8b2167c",
   "metadata": {},
   "source": [
    "__2.Can you think of 4 distinct types of issues where it shines?__"
   ]
  },
  {
   "cell_type": "markdown",
   "id": "09b57e72",
   "metadata": {},
   "source": [
    "__Ans:__ \n",
    "\n",
    "1. Spam Detector: Our mail agent like Gmail or Hotmail does a lot of hard work for us in classifying the mails and moving the spam mails to spam folder. This is again achieved by a spam classifier running in the back end of mail application.\n",
    "\n",
    "2. Finance Industry:Machine learning is growing in popularity in the finance industry. Banks are mainly using ML to find patterns inside the data but also to prevent fraud.\n",
    "\n",
    "3. Healthcare: Machine learning algorithms can be used to predict disease outbreaks, identify potential outbreaks, or predict patient outcomes.Healthcare was one of the first industry to use machine learning with image detection.\n",
    "\n",
    "4. Web Search Engine: One of the reasons why search engines like google, bing etc work so well is because the system has learnt how to rank pages through a complex learning algorithm."
   ]
  },
  {
   "cell_type": "markdown",
   "id": "bd380c4d",
   "metadata": {},
   "source": [
    "__3.What is a labeled training set, and how does it work?__"
   ]
  },
  {
   "cell_type": "markdown",
   "id": "486c0cb1",
   "metadata": {},
   "source": [
    "__Ans:__\n",
    "Labels are also known as tags, which are used to give an identification to a piece of data and tell some information about that element. Labels are also referred to as the final output for a prediction.\n",
    "Data labelling is a process of adding some meaning to different types of datasets, so that it can be properly used to train a Machine Learning Model. Data labelling is also called as Data Annotation, the way of identifying the raw data and adding suitable labels or tags to that data to specify what this data is about, which allows ML models to make an accurate prediction."
   ]
  },
  {
   "cell_type": "markdown",
   "id": "bd78ae29",
   "metadata": {},
   "source": [
    "__4.What are the two most important tasks that are supervised?__"
   ]
  },
  {
   "cell_type": "markdown",
   "id": "6561d0f6",
   "metadata": {},
   "source": [
    "__Ans:__ Supervised learning is the types of machine learning in which machines are trained using well \"labelled\" training data, and on basis of that data, machines predict the output. The labelled data means some input data is already tagged with the correct output.\n",
    " - The two most common supervised learning tasks are `Regression` and `Classification`."
   ]
  },
  {
   "cell_type": "markdown",
   "id": "13af6e56",
   "metadata": {},
   "source": [
    "__5.Can you think of four examples of unsupervised tasks?__"
   ]
  },
  {
   "cell_type": "markdown",
   "id": "dea54979",
   "metadata": {},
   "source": [
    "__Ans:__  Unsupervised learning is a type of machine learning in which models are trained using unlabeled dataset and are allowed to act on that data without any supervision.\n",
    "\n",
    "The unsupervised learning algorithm can be further categorized into two types of tasks\n",
    " - clustering: Clustering is a method of grouping the objects into clusters such that objects with most similarities remains into a group and has less or no similarities with the objects of another group.\n",
    " - Association : An association rule is an unsupervised learning method which is used for finding the relationships between variables in the large database. It determines the set of items that occurs together in the dataset.\n",
    " \n",
    " - Visualization : The visulation of data for unlabelled data.\n",
    " - Dimensionality Reduction: We can reduce the data and find the data pattern from reduced dataset and we can find the important variable."
   ]
  },
  {
   "cell_type": "markdown",
   "id": "421a57cd",
   "metadata": {},
   "source": [
    "__6.State the machine learning model that would be best to make a robot walk through various\n",
    "unfamiliar terrains?__"
   ]
  },
  {
   "cell_type": "markdown",
   "id": "79fd2377",
   "metadata": {},
   "source": [
    "__Ans:__ The best Machine Learning algorithm to allow a Robot to walk in unfamiliar terrains is __Reinforced Learning__, where the robot can learn from response of the terrain to optimize itself."
   ]
  },
  {
   "cell_type": "markdown",
   "id": "febd51a9",
   "metadata": {},
   "source": [
    "__7.Which algorithm will you use to divide your customers into different groups?__"
   ]
  },
  {
   "cell_type": "markdown",
   "id": "f982ed8c",
   "metadata": {},
   "source": [
    "__Ans:__ The Best Algorithm to Segment Customers into different groups is either `Supervised Learning (if the groups have known labels) or Unsupervised Learning (if there are no group labels)`."
   ]
  },
  {
   "cell_type": "markdown",
   "id": "86f0f39c",
   "metadata": {},
   "source": [
    "__8.Will you consider the problem of spam detection to be a supervised or unsupervised learning\n",
    "problem?__"
   ]
  },
  {
   "cell_type": "markdown",
   "id": "647e0afa",
   "metadata": {},
   "source": [
    "__Ans:__ Spam detection is a Supervised Machine Learning problem because the labels are known (spam or no spam)."
   ]
  },
  {
   "cell_type": "markdown",
   "id": "35cfd5e6",
   "metadata": {},
   "source": [
    "__9.What is the concept of an online learning system?__"
   ]
  },
  {
   "cell_type": "markdown",
   "id": "765a4bc3",
   "metadata": {},
   "source": [
    "__Ans:__  Online learning system is a learning system in which the machine learns continously, as data is given in small streams continuously."
   ]
  },
  {
   "cell_type": "markdown",
   "id": "f32f82f4",
   "metadata": {},
   "source": [
    "__10.What is out-of-core learning, and how does it differ from core learning?__"
   ]
  },
  {
   "cell_type": "markdown",
   "id": "b2627242",
   "metadata": {},
   "source": [
    "__Ans:__ Out-of-core learning refers to the machine learning algorithms working with data that cannot fit into a single machine’s memory but can easily fit into some data storage, such as a local hard disk or web repository.Out-of-core learning system is a system that can handle data that cannot fit into our computer memory. It uses online learning system to feed data in small bits."
   ]
  },
  {
   "cell_type": "markdown",
   "id": "24b13d7a",
   "metadata": {},
   "source": [
    "__11.What kind of learning algorithm makes predictions using a similarity measure?__"
   ]
  },
  {
   "cell_type": "markdown",
   "id": "bb30d26b",
   "metadata": {},
   "source": [
    "__Ans:__ Learning algorithm that relies on a similarity measure to make predictions is Instance Based Algorithm. The Machine Learning systems which are categorized as instance-based learning are the systems that learn the training examples by heart and then generalizes to new instances based on some similarity measure. It is called instance-based because it builds the hypotheses from the training instances. It is also known as memory-based learning or lazy-learning. The time complexity of this algorithm depends upon the size of training data. The worst-case time complexity of this algorithm is O (n), where n is the number of training instances.\n"
   ]
  },
  {
   "cell_type": "markdown",
   "id": "765dd63a",
   "metadata": {},
   "source": [
    "__12.What&#39;s the difference between a model parameter and a hyperparameter in a learning\n",
    "algorithm?__"
   ]
  },
  {
   "cell_type": "markdown",
   "id": "01a69046",
   "metadata": {},
   "source": [
    "__Ans:__ Model parameter determines how a model will predict given a new instance. Model usually has more than one parameter (i.e. slope of a linear model). Hyperparameter is a parameter for the learning algorithm, not of a model. Model parameters are estimated based on the data during model training \n",
    "\n",
    "model hyperparameters are set manually and are used in processes to help estimate model parameters. Model hyperparameters are often referred to as parameters because they are the parts of the machine learning that must be set manually and tuned."
   ]
  },
  {
   "cell_type": "markdown",
   "id": "462e9c95",
   "metadata": {},
   "source": [
    "__13.What are the criteria that model-based learning algorithms look for? What is the most popular\n",
    "method they use to achieve success? What method do they use to make predictions?__"
   ]
  },
  {
   "cell_type": "markdown",
   "id": "c9c84803",
   "metadata": {},
   "source": [
    "__Ans:__ Model based learning algorithm search for the optimal value of parameters in a model that will give the best results for the new instances. We often use a cost function or similar to determine what the parameter value has to be in order to minimize the function. The model makes prediction by using the value of the new instance and the parameters in its function. The goal for a model-based algorithm is to be able to generalize to new examples. To do this, model based algorithms search for optimal values for the model's parameters, often called theta. This searching, or \"learning\", is what machine learning is all about. Model-based system learn by minimizing a cost function that measures how bad the system is at making predicitons on new data, plus a penalty for model complexity if the model is regularized. To make a prediction, a new instance's features are fed into a hypothesis function which uses the minimized theta found by repeatedly running the cost function."
   ]
  },
  {
   "cell_type": "markdown",
   "id": "d434cf41",
   "metadata": {},
   "source": [
    "__14.Can you name four of the most important Machine Learning challenges?__"
   ]
  },
  {
   "cell_type": "markdown",
   "id": "204f2834",
   "metadata": {},
   "source": [
    "__Ans:__ Four main challenges in Machine Learning include the following:\n",
    "\n",
    "- Overfitting the Data (using a model too complicated)\n",
    "- Underfitting the data (using a simple model)\n",
    "- Lacking in Data\n",
    "- Non Representative Data."
   ]
  },
  {
   "cell_type": "markdown",
   "id": "e39c77d5",
   "metadata": {},
   "source": [
    "__15.What happens if the model performs well on the training data but fails to generalize the results\n",
    "to new situations? Can you think of three different options?__"
   ]
  },
  {
   "cell_type": "markdown",
   "id": "e1ac76e6",
   "metadata": {},
   "source": [
    "__Ans:__If the model performs poorly to new instances, then it has overfitted on the training data. To solve this, we can do any of the following three:\n",
    "\n",
    "- Get more data\n",
    "- Implement a simpler model\n",
    "- Eliminate outliers or noise from the existing data set."
   ]
  },
  {
   "cell_type": "markdown",
   "id": "92edb0cc",
   "metadata": {},
   "source": [
    "__16.What exactly is a test set, and why would you need one?__"
   ]
  },
  {
   "cell_type": "markdown",
   "id": "1b83c4e3",
   "metadata": {},
   "source": [
    "__Ans:__ Test set is a set to test your model (fit using training data) to see how it performs.Test set is necessary to determine how good (or bad) a model performs. When we want to know how well our model generalizes to new cases we prefer to use a test set instead of actually deploying the system. To build the test set we split the training data (50-50, 60-40, 80-20 are common splits) into a training set and test set. Our model is training with the training set. Then we use the model to run predictions on the test set. Our error rate on the test set is called the generalization error or out-of-sample error. This error tells us how well our model performs on examples it has never seen before.\n",
    "\n",
    "If the training error is low, but the generalization error is high, it means we're overfitting our model."
   ]
  },
  {
   "cell_type": "markdown",
   "id": "3b1a8262",
   "metadata": {},
   "source": [
    "__17.What is a validation set's purpose?__"
   ]
  },
  {
   "cell_type": "markdown",
   "id": "f888715d",
   "metadata": {},
   "source": [
    "__Ans:__ Validation set is a set used to compare between different training models. Let's say we have a linear model and we want to perform some hyperparameter tuning to reduce the generalization error. One way to do this 100 different models with 100 different hyperparameter values using the training set and finding the generalization error with the test set. You find the best hyperparameter value gives you 5% generalization error."
   ]
  },
  {
   "cell_type": "markdown",
   "id": "e9288cd1",
   "metadata": {},
   "source": [
    "__18.What precisely is the train-dev kit, when will you need it, how do you put it to use?__"
   ]
  },
  {
   "cell_type": "markdown",
   "id": "c6ddf12b",
   "metadata": {},
   "source": [
    "__Ans:__ Cross-validation is a tool to compare models without needing a separate validation set. It is preferred over validation set because we can save from breaking of part of the training set to create a validation set, as having more data is valuable regardless."
   ]
  },
  {
   "cell_type": "markdown",
   "id": "a2194f07",
   "metadata": {},
   "source": [
    "__19.What could go wrong if you use the test set to tune hyperparameters?__"
   ]
  },
  {
   "cell_type": "markdown",
   "id": "c02ef909",
   "metadata": {},
   "source": [
    "__Ans:__ If you tune hyperparameters using the test sets, then it may not perform well on the out-of-sample data because the model is tuned just for that specific set. Our model will not be generalizable to new examples."
   ]
  },
  {
   "cell_type": "code",
   "execution_count": null,
   "id": "e09e235c",
   "metadata": {},
   "outputs": [],
   "source": []
  }
 ],
 "metadata": {
  "kernelspec": {
   "display_name": "Python 3 (ipykernel)",
   "language": "python",
   "name": "python3"
  },
  "language_info": {
   "codemirror_mode": {
    "name": "ipython",
    "version": 3
   },
   "file_extension": ".py",
   "mimetype": "text/x-python",
   "name": "python",
   "nbconvert_exporter": "python",
   "pygments_lexer": "ipython3",
   "version": "3.9.13"
  }
 },
 "nbformat": 4,
 "nbformat_minor": 5
}
