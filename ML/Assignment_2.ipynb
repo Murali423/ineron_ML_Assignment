{
 "cells": [
  {
   "cell_type": "markdown",
   "id": "b36aa1f3",
   "metadata": {},
   "source": [
    "##  ML_Assignment_2"
   ]
  },
  {
   "cell_type": "markdown",
   "id": "8dc7f5ec",
   "metadata": {},
   "source": [
    "__1. What is the concept of human learning? Please give two examples.__"
   ]
  },
  {
   "cell_type": "markdown",
   "id": "8a1f90ac",
   "metadata": {},
   "source": [
    "__Ans:__ If cognition, memory, and intelligence are underlying mechanisms that allow people to perceive, process, and apply information for daily adaptation, then learning is a natural consequence of these mechanisms.\n",
    "\n",
    "Human learning is the form of learning which requires higher order mental processes like thinking, reasoning, intelligence, etc.We learn different concepts from childhood. For example: When we see a dog and attach the term 'dog', we learn that the word dog refers to a particular animal.\n",
    "1. Learning through Association - Classical Conditioning.\n",
    "2. Learning through consequences – Operant Conditioning.\n",
    "3. Learning through observation – Modeling/Observational Learning."
   ]
  },
  {
   "cell_type": "markdown",
   "id": "55ff4581",
   "metadata": {},
   "source": [
    "__2. What different forms of human learning are there? Are there any machine learning equivalents?__"
   ]
  },
  {
   "cell_type": "markdown",
   "id": "f1eb2c88",
   "metadata": {},
   "source": [
    "__Ans:__ Human learning is the form of learning which requires higher order mental processes like thinking, reasoning, intelligence, etc.We learn different concepts from childhood. For example: When we see a dog and attach the term 'dog', we learn that the word dog refers to a particular animal.\n",
    "\n",
    "1. Learning through Association - Classical Conditioning.\n",
    "2. Learning through consequences – Operant Conditioning.\n",
    "3. Learning through observation – Modeling/Observational Learning.\n",
    "\n",
    "Different Forms of ML are as follows :\n",
    " 1. Artificial Intelligence, Machine Learning, Reinforcement learning, Natural Language Processing.\n",
    " 2. ML equivalents like Linear regression, decision trees, random forest and support vector machines are some commonly used techniques that are actually examples of supervised learning."
   ]
  },
  {
   "cell_type": "markdown",
   "id": "e02cc508",
   "metadata": {},
   "source": [
    "__3. What is machine learning, and how does it work? What are the key responsibilities of machine\n",
    "learning?__"
   ]
  },
  {
   "cell_type": "markdown",
   "id": "8210b9ae",
   "metadata": {},
   "source": [
    "__Ans:__ Instead of engineers “teaching” or programming computers to have what they need \n",
    "to carry out tasks, that perhaps computers could teach themselves – learn something without being \n",
    "explicitly programmed to do so. ML is a form of AI where based on more data, and they can change \n",
    "actions and response, which will make more efficient, adaptable and scalable. e.g., navigation apps and \n",
    "recommendation engines. ML is branch of AI.\n",
    "\n",
    "- It works by exploring data and identifying patterns, and involves minimal human intervention.\n",
    "\n",
    "Roles and responsibilities of a machine learning engineer are:\n",
    "\n",
    " - Designing ML systems\n",
    " - Researching and implementing ML algorithms and tools. Selecting appropriate data sets.\n",
    " - Picking appropriate data representation methods. Identifying differences in data distribution that affects model performance. Verifying data quality."
   ]
  },
  {
   "cell_type": "markdown",
   "id": "c7c64bef",
   "metadata": {},
   "source": [
    "__4. Define the terms \"penalty\" and \"reward\" in the context of reinforcement learning ?__"
   ]
  },
  {
   "cell_type": "markdown",
   "id": "993903ad",
   "metadata": {},
   "source": [
    "__Ans:__ A Reinforcement Learning Algorithm, which may also be referred to as an agent, learns by interacting with its environment. The agent receives rewards by performing correctly and penalties for performing incorrectly. The agent learns without intervention from a human by maximizing its reward and minimizing its penalty. "
   ]
  },
  {
   "cell_type": "markdown",
   "id": "1e541efe",
   "metadata": {},
   "source": [
    "__5. Explain the term \"learning as a search\" ?__"
   ]
  },
  {
   "cell_type": "markdown",
   "id": "2823285f",
   "metadata": {},
   "source": [
    "__Ans:__ Learning can be viewed as a search through the space of all sentences in a concept description language for a sentence that best describes the data. Alternatively, it can be viewed as a search through all hypotheses in a hypothesis space. Concept learning can be viewed as the task of searching through a large space of hypotheses implicitly defined by the hypothesis representation. The goal of this search is to find the hypothesis that best fits the training examples."
   ]
  },
  {
   "cell_type": "markdown",
   "id": "7d356501",
   "metadata": {},
   "source": [
    "__6. What are the various goals of machine learning? What is the relationship between these and human learning ?__"
   ]
  },
  {
   "cell_type": "markdown",
   "id": "fb008b64",
   "metadata": {},
   "source": [
    "__Ans:__ The Goal of machine learning, closely coupled with the goal of AI, is to achieve a through understanding about the nature of learning process (both human learning and other forms of learning), about the computational aspects of learning behaviors, and to implant the learning capability in computer systems. he Goals of Machine Learning. The goal of ML, in simples w ords, is to understand the nature of (human and other forms of) learn- ing, and to build learning capability in computers. To b e more specific, there are three aspects of the goals of ML. \n",
    "\n",
    "(1) T o make the computers smarter , more intelligent. The more direct objecti ve i n this aspect is to develop systems (programs) for specific practical learning tasks in application domains. \n",
    "\n",
    "(2) T o dev elop computational models of human learning process and perform computer simulations. The study in this aspect is also called cognitive modeling. \n",
    "\n",
    "(3) T o explore new learning methods and de velop general learning algorithms independent of applica- tions.\n",
    "\n",
    "Humans have the ability to learn, however with the progress in artificial intelligence, machine learning has become a resource which can augment or even replace human learning. Learning does not happen all at once, but it builds upon and is shaped by previous knowledge. Humans acquire knowledge through experience either directly or shared by others. Machines acquire knowledge through experience shared in the form of past data. We have the terms, Knowledge, Skill, and Memory being used to define intelligence. Just because you have good memory, that does not mean you are intelligent."
   ]
  },
  {
   "cell_type": "markdown",
   "id": "58f31b88",
   "metadata": {},
   "source": [
    "__7. Illustrate the various elements of machine learning using a real-life illustration ?__"
   ]
  },
  {
   "cell_type": "markdown",
   "id": "5c924095",
   "metadata": {},
   "source": [
    "__Ans__ The Various elements of the the Machine Learning are:\n",
    "- Data\n",
    "- Task\n",
    "- Model\n",
    "- Loss Function\n",
    "- Learning Algorithm\n",
    "- Evaluation"
   ]
  },
  {
   "cell_type": "markdown",
   "id": "0ec58110",
   "metadata": {},
   "source": [
    "__8. Provide an example of the abstraction method ?__"
   ]
  },
  {
   "cell_type": "markdown",
   "id": "0ffaabd5",
   "metadata": {},
   "source": [
    "__Ans:__  In Machine Learning, Abstraction is supported primarily at the level of modules. This can be justified in two ways: \n",
    "\n",
    "1. Data abstraction is mostly a question of program interfaces and therefore it arises naturally at the point where we have to consider program composition and modules. \n",
    "\n",
    "2. Abstraction is defined as dealing with ideas instead of events. In the context of AI, that means worrying more about what the right algorithm is and less about how to implement it. Another way of looking at it, for those technically inclined, is as an API call (abstracted) vs. a self implemented function or series of functions."
   ]
  },
  {
   "cell_type": "markdown",
   "id": "a4d11d3e",
   "metadata": {},
   "source": [
    "__9. What is the concept of generalization? What function does it play in the machine learning\n",
    "process?__"
   ]
  },
  {
   "cell_type": "markdown",
   "id": "ba858810",
   "metadata": {},
   "source": [
    "__Ans:__ Generalization refers to your model's ability to adapt properly to new, previously unseen data, drawn from the same distribution as the one used to create the model. \n",
    "\n",
    "The ultimate goal of machine learning is to find statistical patterns in a training set that generalize to data outside the training set. Take the following simple NLP problem: Say you want to predict a word in a sequence given its preceding words.\n",
    "\n",
    "For example, the sequence “the cat ” may be followed by sleeps, enjoys, or wants. Your training sequences probably include many such noun-verb combinations, others might be“she has”, “an expert says”, “it seems”, and so on. Note that all these verbs have a third person -s because they refer to the subject of the sequence. A good language model can indeed pick up this pattern and make correct predictions even on sequences it was not trained on.\n",
    "\n",
    "If training loss in fact does decrease as expected, it doesn’t automatically mean that whatever the model has learned is also useful. This is where the validation loss comes into play. Things look good if the validation loss decreases alongside the training loss. In that case, the learned patterns seem to generalize to the unseen validation data. The validation loss will typically be higher than the training loss, however, since not all patterns generalize"
   ]
  },
  {
   "cell_type": "markdown",
   "id": "ed1a2df0",
   "metadata": {},
   "source": [
    "__10. What is classification, exactly? What are the main distinctions between classification and regression?__"
   ]
  },
  {
   "cell_type": "markdown",
   "id": "888713d7",
   "metadata": {},
   "source": [
    "__Ans:__ **Classification usually refers to any kind of problem where a specific type of class label is the result to be predicted from the given input field of data**. Some types of Classification challenges are :\n",
    "\n",
    " - Classifying emails as spam or not\n",
    "- Classify a given handwritten character to be either a known character or not\n",
    "- Classify recent user behaviour as churn or not\n",
    "\n",
    "classification models to predict a continuous value as the probability of a given example belonging to each output class. The probabilities can be interpreted as the likelihood or confidence of a given example belonging to each class. A predicted probability can be converted into a class value by selecting the class label that has the highest probability.\n",
    "\n",
    "Regression shows a line or curve that passes through all the data points on a target-predictor graph in such a way that the vertical distance between the data points and the regression line is minimum.Regression predictive modeling is the task of approximating a mapping function (f) from input variables (X) to a continuous output variable (y).\n",
    "\n",
    "A continuous output variable is a real-value, such as an integer or floating point value.\n",
    "\n",
    "- Predicting age of a person\n",
    "- Predicting whether stock price of a company will increase tomorrow\n",
    "\n",
    "Main distinction between the classification and regression is the type of output variable. for classification we get specific type of class label in terms of probablity. For regression we get continous value it can be integer or float."
   ]
  },
  {
   "cell_type": "markdown",
   "id": "be35e61c",
   "metadata": {},
   "source": [
    "__11. What is regression, and how does it work? Give an example of a real-world problem that was\n",
    "solved using regression.__"
   ]
  },
  {
   "cell_type": "markdown",
   "id": "b1c81c80",
   "metadata": {},
   "source": [
    "__Ans:__\n",
    "\n",
    "   Regression analysis is the process of estimating the relationship between a dependent variable and independent variables. In simpler words, it means fitting a function from a selected family of functions to the sampled data under some error function. Regression analysis is one of the most basic tools in the area of machine learning used for prediction. Using regression you fit a function on the available data and try to predict the outcome for the future or hold-out datapoints. This fitting of function serves two purposes.\n",
    "\n",
    " 1. You can estimate missing data within your data range (Interpolation)\n",
    " 2. You can estimate future data outside your data range (Extrapolation)\n",
    "\n",
    "Some real-world examples for regression analysis include:\n",
    "\n",
    "- predicting the price of a house given house features\n",
    "- predicting the impact of SAT/GRE scores on college admissions\n",
    "- predicting the sales based on input parameters, predicting the weather\n"
   ]
  },
  {
   "cell_type": "markdown",
   "id": "649e022b",
   "metadata": {},
   "source": [
    "__12. Describe the clustering mechanism in detail.__"
   ]
  },
  {
   "cell_type": "markdown",
   "id": "1fbe558f",
   "metadata": {},
   "source": [
    "__Ans:__\n",
    "Clustering is the task of dividing the population or data points into a number of groups such that data points in the same groups are more similar to other data points in the same group than those in other groups. In simple words, the aim is to segregate groups with similar traits and assign them into clusters. Clustering is the process of making a group of abstract objects into classes of similar objects.\n",
    "\n",
    "Important Points are mentioned below:\n",
    "\n",
    "A cluster of data objects can be treated as one group.\n",
    "\n",
    "While doing cluster analysis, we first partition the set of data into groups based on data similarity and then assign the labels to the groups.\n",
    "\n",
    "The main advantage of clustering over classification is that, it is adaptable to changes and helps single out useful features that distinguish different groups.\n",
    "\n",
    "Applications of Cluster Analysis\n",
    "\n",
    "Clustering analysis is broadly used in many applications such as market research, pattern recognition, data analysis, and image processing.\n",
    "\n",
    "Clustering can also help marketers discover distinct groups in their customer base. And they can characterize their customer groups based on the purchasing patterns.\n",
    "\n",
    "In the field of biology, it can be used to derive plant and animal taxonomies, categorize genes with similar functionalities and gain insight into structures inherent to populations.\n",
    "\n",
    "Clustering also helps in identification of areas of similar land use in an earth observation database. It also helps in the identification of groups of houses in a city according to house type, value, and geographic location.\n",
    "\n",
    "Clustering also helps in classifying documents on the web for information discovery.\n",
    "\n",
    "Clustering is also used in outlier detection applications such as detection of credit card fraud."
   ]
  },
  {
   "cell_type": "markdown",
   "id": "88e39e5c",
   "metadata": {},
   "source": [
    "__13. Make brief observations on two of the following topics:__\n",
    "\n",
    "  i.  Machine learning algorithms are used\n",
    "  \n",
    "  ii. Studying under supervision\n",
    "  \n",
    "  iii. Studying without supervision\n",
    "  \n",
    "  iv. Reinforcement learning is a form of learning based on positive reinforcement."
   ]
  },
  {
   "cell_type": "markdown",
   "id": "52261b0b",
   "metadata": {},
   "source": [
    "__Ans:__\n",
    "\n",
    "**Machine learning algorithms are used:** At its Most basic, Machine Learning uses programmed algorithms that receive and analyse input data to predict output values within an acceptable range. As new data is fed to these algorithms, they learn and optimise their operations to improve performance, developing intelligence over time.\n",
    "\n",
    "**Studying under supervision:** In ML the Supervision algorithms model learn from data which has labelled and predict the  output basically model draws the relationship between independent and dependent variable\n",
    "\n",
    "**Studying without supervision:** In ML the Unsupervised algorithms model learn from data which has unlabelled and makes diffent clusters from this analysis it predicts if new data come in which cluster it belongs.\n",
    "\n",
    "**Reinforcement learning is a form of learning based on positive reinforcement:** Reinforcement learning is a agent based learning it learn from environment, it draws award and penality, if agent able predict correctly it gives award and if the agent predict badly it gives penality \n",
    "\n",
    "Basically in all ML alogrithms they try to minimize the error.\n"
   ]
  },
  {
   "cell_type": "code",
   "execution_count": null,
   "id": "036b4d57",
   "metadata": {},
   "outputs": [],
   "source": []
  }
 ],
 "metadata": {
  "kernelspec": {
   "display_name": "Python 3 (ipykernel)",
   "language": "python",
   "name": "python3"
  },
  "language_info": {
   "codemirror_mode": {
    "name": "ipython",
    "version": 3
   },
   "file_extension": ".py",
   "mimetype": "text/x-python",
   "name": "python",
   "nbconvert_exporter": "python",
   "pygments_lexer": "ipython3",
   "version": "3.9.13"
  }
 },
 "nbformat": 4,
 "nbformat_minor": 5
}
